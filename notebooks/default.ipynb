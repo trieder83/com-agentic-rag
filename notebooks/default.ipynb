{
 "cells": [
  {
   "cell_type": "code",
   "execution_count": 9,
   "id": "24fb7419-0dbf-43d6-a734-25d0f3f224b1",
   "metadata": {
    "scrolled": true
   },
   "outputs": [
    {
     "name": "stdout",
     "output_type": "stream",
     "text": [
      "http://ollama:11434\n",
      "model: qwen2.5:1.5b\n",
      "embedding: nomic-embed-text:latest\n",
      "datapath /data\n"
     ]
    }
   ],
   "source": [
    "import os \n",
    "from prompts import context, code_parser_template, FORMAT_INSTRUCTIONS_TEMPLATE, react_system_header_str, EXTRACT_TEMPLATE_STR\n",
    "\n",
    "from dotenv import load_dotenv\n",
    "load_dotenv()\n",
    "\n",
    "\n",
    "OLLAMA_URL=os.getenv(\"OLLAMA_URL\")\n",
    "LLM_MODEL=os.getenv(\"LLM_MODEL\")\n",
    "EMBEDDING_MODEL=os.getenv(\"EMBEDDING_MODEL\")\n",
    "DATAPATH=os.getenv(\"DATAPATH\")\n",
    "DATAPATH='/data'\n",
    "#OLLAMA_URL='http://localhost:11434'\n",
    "\n",
    "print(OLLAMA_URL)\n",
    "print(f\"model: {LLM_MODEL}\")\n",
    "print(f\"embedding: {EMBEDDING_MODEL}\")\n",
    "print(f\"datapath {DATAPATH}\")"
   ]
  },
  {
   "cell_type": "markdown",
   "id": "40791bb1-6938-4a26-9265-c67379d6e9a1",
   "metadata": {},
   "source": [
    "Test connection to ollama"
   ]
  },
  {
   "cell_type": "code",
   "execution_count": 10,
   "id": "7c54e76c-e63d-485f-a9d1-9ea9340f620a",
   "metadata": {},
   "outputs": [
    {
     "name": "stdout",
     "output_type": "stream",
     "text": [
      "<Response [200]>\n"
     ]
    }
   ],
   "source": [
    "import requests\n",
    "import time\n",
    "\n",
    "response = requests.get(OLLAMA_URL,timeout=3)\n",
    "if response.status_code == requests.codes.ok:\n",
    "    print(response)\n",
    "else:\n",
    "    print(response)    "
   ]
  },
  {
   "cell_type": "code",
   "execution_count": 11,
   "id": "154bcc6a-e579-4df6-a16a-12462812569e",
   "metadata": {},
   "outputs": [
    {
     "name": "stderr",
     "output_type": "stream",
     "text": [
      "[nltk_data] Downloading package punkt_tab to\n",
      "[nltk_data]     /opt/venv/lib/python3.13/site-\n",
      "[nltk_data]     packages/llama_index/core/_static/nltk_cache...\n",
      "[nltk_data]   Unzipping tokenizers/punkt_tab.zip.\n"
     ]
    }
   ],
   "source": [
    "from llama_index.llms.ollama import Ollama\n",
    "llm = Ollama(model=LLM_MODEL, request_timeout=120.0, base_url=OLLAMA_URL, temperature=0)"
   ]
  },
  {
   "cell_type": "code",
   "execution_count": 12,
   "id": "0ce0e5e0-b2b3-4f0c-bd2a-0db511420163",
   "metadata": {},
   "outputs": [
    {
     "name": "stdout",
     "output_type": "stream",
     "text": [
      "loaded\n"
     ]
    }
   ],
   "source": [
    "\n",
    "from llama_index.core import VectorStoreIndex, SimpleDirectoryReader, Settings, PromptTemplate\n",
    "documents = SimpleDirectoryReader(\n",
    "    input_files=[f\"{DATAPATH}/testdata.txt\",f\"{DATAPATH}/additionalinfo.txt\"]\n",
    ").load_data()\n",
    "print(\"loaded\")"
   ]
  },
  {
   "cell_type": "code",
   "execution_count": 13,
   "id": "4723fe57-a7aa-4429-a2fc-6c83e56be0a4",
   "metadata": {},
   "outputs": [
    {
     "name": "stdout",
     "output_type": "stream",
     "text": [
      "finish\n"
     ]
    }
   ],
   "source": [
    "from llama_index.embeddings.ollama import OllamaEmbedding\n",
    "from llama_index.core.node_parser import SentenceSplitter\n",
    "\n",
    "Settings.embed_model = OllamaEmbedding(model_name=EMBEDDING_MODEL, base_url=OLLAMA_URL,embed_batch_size=100)\n",
    "Settings.text_splitter = SentenceSplitter(chunk_size=512, chunk_overlap=30)\n",
    "# ollama\n",
    "Settings.llm = llm\n",
    "\n",
    "index = VectorStoreIndex.from_documents(\n",
    "documents,\n",
    "#embed_model=ollama_embedding,\n",
    ")\n",
    "\n",
    "print(\"finish\")"
   ]
  },
  {
   "cell_type": "code",
   "execution_count": null,
   "id": "d4926d7b-4d6c-4eed-b684-7eaf3b59f6c9",
   "metadata": {},
   "outputs": [],
   "source": [
    "from llama_index.core.tools import QueryEngineTool\n",
    "\n",
    "query_engine = index.as_query_engine(similarity_top_k=3)\n",
    "\n",
    "knowledge_tool = QueryEngineTool.from_defaults(\n",
    "    query_engine,\n",
    "    name=\"knowledge_tool\",\n",
    "    description=\"\"\"A RAG engine with some basic facts persons. Ask natural-language questions about persons and their properties and relations.\n",
    "              if the knowledge_tool has no relatied information, ignore the answer.\n",
    "              \"\"\"\n",
    ")"
   ]
  },
  {
   "cell_type": "code",
   "execution_count": null,
   "id": "9e99ec6e-4c22-4b57-a1f3-2739012db474",
   "metadata": {},
   "outputs": [],
   "source": [
    "from llama_index.core.tools import FunctionTool\n",
    "\n",
    "# generate_kwargs parameters are taken from https://huggingface.co/meta-llama/Meta-Llama-3-8B-Instruct\n",
    "def find_person(name: str, **kwargs):\n",
    "    \"\"\"\n",
    "    provides information about known persons. including ther detail information like birthdate\n",
    "\n",
    "    args:\n",
    "        name\n",
    "    \"\"\"\n",
    "    # Mock response; replace with real query logic\n",
    "    person_data = {\n",
    "        \"anna gölding\": {\"birthdate\": \"October 24, 1734\", \"known_for\": \"Last witch executed in Switzerland.\",\"object_id\":\"1234\",\"relations\":{\"knows other person\":\"ron paul\",\"organzation\":\"pilz mafia\"}},\n",
    "        \"john doe\": {\"birthdate\": \"Unknown\", \"known_for\": \"Placeholder name for anonymous individuals.\"},\n",
    "        \"ron paul\": {\"birthdate\": \"May 1, 1928\", \"known_for\": \"Talking a lot.\"},\n",
    "        \"miranda meyers\": {\"birthdate\": \"Aug 11, 1998\", \"known_for\": \"Miranda verkauft gerne verdorbens Eis. Das Eis erhält sie illegal von Litauen, wo es mit Mäusemilch hergestellt wird.\"},\n",
    "    }\n",
    "    return person_data.get(name.lower(), \"No information available for this person.\")\n",
    "\n",
    "find_person_tool = FunctionTool.from_defaults(\n",
    "    fn=find_person,\n",
    "    name=\"find_person\",\n",
    ")\n",
    "\n",
    "\n",
    "def find_organization(name: str, **kwargs):\n",
    "    \"\"\"\n",
    "    provides information about known official and inofficial organzations.\n",
    "\n",
    "    args:\n",
    "        name\n",
    "    \"\"\"\n",
    "    # Mock response; replace with real query logic\n",
    "    org_data  = {\n",
    "        \"un\": {\"name\": \"United Nations\", \"description\": \"The Security Council has primary responsibility for the maintenance of international peace and security.\",\"id\":\"200\",\"relations\":{\"\"}},\n",
    "        \"pilz mafia\": {\"name\": \"Pilz Mafia\", \"description\": \"\",\"id\":\"201\",\"members\":{\"anna gölding\",\"ron paul\"}},\n",
    "        \"acme company\": {\"name\":\"acme company\",\"description\":\"placeholder company\"},\n",
    "    }\n",
    "    return org_data.get(name.lower(), \"No information available for this organization.\")\n",
    "\n",
    "find_orgnization_tool = FunctionTool.from_defaults(\n",
    "    fn=find_organization,\n",
    "    name=\"find_organization\",\n",
    ")\n",
    "\n",
    "#def get_messages(name: str, min_daterange: datetime, max_daterange: datetime):\n",
    "def get_messages(name: str, min_daterange: str, max_daterange: str, **kwargs):\n",
    "    \"\"\"\n",
    "    Retrieve information about communications between two or more people within a given date range.\n",
    "\n",
    "    # Example usage:\n",
    "        name = \"c1\"\n",
    "        min_daterange = ISO8601 date string\n",
    "        max_daterange = ISO8601 date string\n",
    "        messages = get_messages(name, min_daterange, max_daterange)\n",
    "\n",
    "    Args:\n",
    "        name (str): The name of the context always use c1.\n",
    "        min_daterange (datetime): The start of the date range.\n",
    "        max_daterange (datetime): The end of the date range.\n",
    "\n",
    "    Returns:\n",
    "        dict: A dictionary of messages for the given name within the date range.\n",
    "    \"\"\"\n",
    "    # Mock response; replace with real query logic\n",
    "    min_daterange_ts = parser.parse(min_daterange)\n",
    "    max_daterange_ts = parser.parse(max_daterange)\n",
    "    org_data = {\n",
    "        \"c1_1738446338\": {\"sender\": \"Ron Paul\", \"message\": \"Anna Gölding ist gestorben.\", \"timestamp\": datetime(2025, 1, 1)},\n",
    "        \"c1_1738446338\": {\"sender\": \"Pilz Mafia\", \"message\": \"Hat Sie mit Boris Weed gesprochen oder ihn erwähnt? Sie wollte von ihm ein Sack voll Vogelfutter kaufen.\", \"timestamp\": datetime(2025, 1, 5)},\n",
    "    }\n",
    "\n",
    "    result = {}\n",
    "    for key, value in org_data.items():\n",
    "        if key.startswith(name.lower()): # and min_daterange_ts <= value[\"timestamp\"] <= max_daterange_ts:\n",
    "            result[key] = value\n",
    "\n",
    "    if not result:\n",
    "        return \"No information available for this timerange\"\n",
    "\n",
    "    return result\n",
    "\n",
    "get_messages_tool = FunctionTool.from_defaults(\n",
    "    fn=get_messages,\n",
    "    name=\"get_messages\",\n",
    ")\n"
   ]
  },
  {
   "cell_type": "code",
   "execution_count": null,
   "id": "27ee7b71-0c6d-40f0-9a5a-73a98d3619ea",
   "metadata": {},
   "outputs": [],
   "source": [
    "tools = [\n",
    "    find_person_tool,\n",
    "    find_orgnization_tool,\n",
    "    get_messages_tool,\n",
    "    knowledge_tool,\n",
    "]\n",
    "\n",
    "memory = ChatMemoryBuffer(token_limit=2000)\n",
    "\n",
    "\n",
    "# extract only entities\n",
    "\n",
    "class Organization(BaseModel):\n",
    "    \"\"\"Organization entity\"\"\"\n",
    "    name: str\n",
    "\n",
    "ollama_model = OpenAIModel(model_name=LLM_MODEL, base_url=f\"{OLLAMA_URL}/v1\")\n",
    "#ollama_model = OpenAIModel(model_name='ollama:llama3.2', base_url=OLLAMA_URL)\n",
    "agent = Agent(ollama_model, result_type=Organization,system_prompt=EXTRACT_TEMPLATE_STR)\n",
    "#TODO\n",
    "\n"
   ]
  },
  {
   "cell_type": "code",
   "execution_count": null,
   "id": "5be71922-bd13-4cfe-96ae-f1864623edf7",
   "metadata": {},
   "outputs": [],
   "source": [
    "\n",
    "\n",
    "prod_data = [\"Die Pilz Mafia ist eine Organisation.\", \"Die Polnische Polizei überwacht die Pilz Mafia.\"]\n",
    "\n",
    "org_result = agent.run_sync(f'What organizations are mentioned {prod_data}')\n",
    "print(org_result.data)\n",
    "print(org_result.usage())\n",
    "#memory.save(org_result.data)\n"
   ]
  }
 ],
 "metadata": {
  "kernelspec": {
   "display_name": "Python 3 (ipykernel)",
   "language": "python",
   "name": "python3"
  },
  "language_info": {
   "codemirror_mode": {
    "name": "ipython",
    "version": 3
   },
   "file_extension": ".py",
   "mimetype": "text/x-python",
   "name": "python",
   "nbconvert_exporter": "python",
   "pygments_lexer": "ipython3",
   "version": "3.13.2"
  }
 },
 "nbformat": 4,
 "nbformat_minor": 5
}
